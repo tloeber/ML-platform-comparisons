{
 "cells": [
  {
   "cell_type": "code",
   "execution_count": 46,
   "id": "3b582d51-7143-4f35-88df-25a858e88510",
   "metadata": {},
   "outputs": [
    {
     "data": {
      "text/html": [
       "<div>\n",
       "<style scoped>\n",
       "    .dataframe tbody tr th:only-of-type {\n",
       "        vertical-align: middle;\n",
       "    }\n",
       "\n",
       "    .dataframe tbody tr th {\n",
       "        vertical-align: top;\n",
       "    }\n",
       "\n",
       "    .dataframe thead th {\n",
       "        text-align: right;\n",
       "    }\n",
       "</style>\n",
       "<table border=\"1\" class=\"dataframe\">\n",
       "  <thead>\n",
       "    <tr style=\"text-align: right;\">\n",
       "      <th></th>\n",
       "      <th>img_path</th>\n",
       "      <th>label</th>\n",
       "    </tr>\n",
       "  </thead>\n",
       "  <tbody>\n",
       "    <tr>\n",
       "      <th>0</th>\n",
       "      <td>gs://data-and-predictions/fish-species-classif...</td>\n",
       "      <td>ALB</td>\n",
       "    </tr>\n",
       "    <tr>\n",
       "      <th>1</th>\n",
       "      <td>gs://data-and-predictions/fish-species-classif...</td>\n",
       "      <td>ALB</td>\n",
       "    </tr>\n",
       "    <tr>\n",
       "      <th>2</th>\n",
       "      <td>gs://data-and-predictions/fish-species-classif...</td>\n",
       "      <td>ALB</td>\n",
       "    </tr>\n",
       "    <tr>\n",
       "      <th>3</th>\n",
       "      <td>gs://data-and-predictions/fish-species-classif...</td>\n",
       "      <td>ALB</td>\n",
       "    </tr>\n",
       "    <tr>\n",
       "      <th>4</th>\n",
       "      <td>gs://data-and-predictions/fish-species-classif...</td>\n",
       "      <td>ALB</td>\n",
       "    </tr>\n",
       "  </tbody>\n",
       "</table>\n",
       "</div>"
      ],
      "text/plain": [
       "                                            img_path label\n",
       "0  gs://data-and-predictions/fish-species-classif...   ALB\n",
       "1  gs://data-and-predictions/fish-species-classif...   ALB\n",
       "2  gs://data-and-predictions/fish-species-classif...   ALB\n",
       "3  gs://data-and-predictions/fish-species-classif...   ALB\n",
       "4  gs://data-and-predictions/fish-species-classif...   ALB"
      ]
     },
     "execution_count": 46,
     "metadata": {},
     "output_type": "execute_result"
    }
   ],
   "source": [
    "import pandas as pd\n",
    "BUCKET_NAME = 'data-and-predictions'\n",
    "PROJECT_PREFIX = 'fish-species-classification'\n",
    "\n",
    "storage_client = storage.Client()\n",
    "\n",
    "blobs = storage_client.list_blobs(\n",
    "    BUCKET_NAME,\n",
    "    prefix=f'{PROJECT_PREFIX}/train',\n",
    ")\n",
    "\n",
    "img_paths = [\n",
    "    f'gs://{BUCKET_NAME}/{blob.name}' for blob in blobs\n",
    "]    \n",
    "    \n",
    "schema = pd.DataFrame(img_paths, columns=['img_path'])\n",
    "# Extract label only once data is in DataFrame so it can be vectorized\n",
    "schema = schema.assign(\n",
    "    label=schema.img_path\n",
    "        .str.split('/')\n",
    "        .str.get(-2)\n",
    ")\n",
    "\n",
    "schema.head()"
   ]
  },
  {
   "cell_type": "code",
   "execution_count": 70,
   "id": "f5c1cc38-29c4-4408-b6e6-29b119b1ab1d",
   "metadata": {},
   "outputs": [],
   "source": [
    "from google.cloud.storage.blob import Blob\n",
    "\n",
    "Blob.from_string(\n",
    "        uri=f'gs://{BUCKET_NAME}/{PROJECT_PREFIX}/schema.csv',\n",
    "        client=storage_client,\n",
    "    )\n",
    "    .upload_from_string(\n",
    "        data=schema.to_csv(index=False),\n",
    "        content_type='text/csv',\n",
    "    )"
   ]
  },
  {
   "cell_type": "code",
   "execution_count": 72,
   "id": "5d033bbd-e547-4b80-a570-376256452d46",
   "metadata": {},
   "outputs": [],
   "source": [
    "# blob.download_as_string()"
   ]
  }
 ],
 "metadata": {
  "environment": {
   "kernel": "python3",
   "name": "common-cpu.m97",
   "type": "gcloud",
   "uri": "gcr.io/deeplearning-platform-release/base-cpu:m97"
  },
  "kernelspec": {
   "display_name": "Python 3",
   "language": "python",
   "name": "python3"
  },
  "language_info": {
   "codemirror_mode": {
    "name": "ipython",
    "version": 3
   },
   "file_extension": ".py",
   "mimetype": "text/x-python",
   "name": "python",
   "nbconvert_exporter": "python",
   "pygments_lexer": "ipython3",
   "version": "3.7.12"
  }
 },
 "nbformat": 4,
 "nbformat_minor": 5
}
