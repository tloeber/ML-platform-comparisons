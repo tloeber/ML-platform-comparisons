{
 "cells": [
  {
   "cell_type": "code",
   "execution_count": 33,
   "id": "de3ae862-e9d9-4008-90b8-a0ccbd6de5cd",
   "metadata": {},
   "outputs": [],
   "source": [
    "import pandas as pd\n",
    "from google.cloud import storage\n",
    "from google.cloud.storage.blob import Blob\n",
    "\n",
    "BUCKET_NAME = 'data-and-predictions'\n",
    "PROJECT_PREFIX = 'fish-species-classification'\n",
    "\n",
    "storage_client = storage.Client()"
   ]
  },
  {
   "cell_type": "code",
   "execution_count": 3,
   "id": "d6bd4510-c126-4e7a-bba7-9b30a00708c1",
   "metadata": {},
   "outputs": [
    {
     "data": {
      "text/html": [
       "<div>\n",
       "<style scoped>\n",
       "    .dataframe tbody tr th:only-of-type {\n",
       "        vertical-align: middle;\n",
       "    }\n",
       "\n",
       "    .dataframe tbody tr th {\n",
       "        vertical-align: top;\n",
       "    }\n",
       "\n",
       "    .dataframe thead th {\n",
       "        text-align: right;\n",
       "    }\n",
       "</style>\n",
       "<table border=\"1\" class=\"dataframe\">\n",
       "  <thead>\n",
       "    <tr style=\"text-align: right;\">\n",
       "      <th></th>\n",
       "      <th>img_path</th>\n",
       "      <th>label</th>\n",
       "    </tr>\n",
       "  </thead>\n",
       "  <tbody>\n",
       "    <tr>\n",
       "      <th>0</th>\n",
       "      <td>gs://data-and-predictions/fish-species-classif...</td>\n",
       "      <td>ALB</td>\n",
       "    </tr>\n",
       "    <tr>\n",
       "      <th>1</th>\n",
       "      <td>gs://data-and-predictions/fish-species-classif...</td>\n",
       "      <td>ALB</td>\n",
       "    </tr>\n",
       "    <tr>\n",
       "      <th>2</th>\n",
       "      <td>gs://data-and-predictions/fish-species-classif...</td>\n",
       "      <td>ALB</td>\n",
       "    </tr>\n",
       "    <tr>\n",
       "      <th>3</th>\n",
       "      <td>gs://data-and-predictions/fish-species-classif...</td>\n",
       "      <td>ALB</td>\n",
       "    </tr>\n",
       "    <tr>\n",
       "      <th>4</th>\n",
       "      <td>gs://data-and-predictions/fish-species-classif...</td>\n",
       "      <td>ALB</td>\n",
       "    </tr>\n",
       "  </tbody>\n",
       "</table>\n",
       "</div>"
      ],
      "text/plain": [
       "                                            img_path label\n",
       "0  gs://data-and-predictions/fish-species-classif...   ALB\n",
       "1  gs://data-and-predictions/fish-species-classif...   ALB\n",
       "2  gs://data-and-predictions/fish-species-classif...   ALB\n",
       "3  gs://data-and-predictions/fish-species-classif...   ALB\n",
       "4  gs://data-and-predictions/fish-species-classif...   ALB"
      ]
     },
     "execution_count": 3,
     "metadata": {},
     "output_type": "execute_result"
    }
   ],
   "source": [
    "# TRAIN schema\n",
    "# ###########\n",
    "\n",
    "blobs = storage_client.list_blobs(\n",
    "    BUCKET_NAME,\n",
    "    prefix=f'{PROJECT_PREFIX}/train',\n",
    ")\n",
    "\n",
    "img_paths = [\n",
    "    f'gs://{BUCKET_NAME}/{blob.name}' for blob in blobs\n",
    "]    \n",
    "    \n",
    "schema = pd.DataFrame(img_paths, columns=['img_path'])\n",
    "# Extract label only once data is in DataFrame so it can be vectorized\n",
    "schema = schema.assign(\n",
    "    label=schema.img_path\n",
    "        .str.split('/')\n",
    "        .str.get(-2)\n",
    ")\n",
    "\n",
    "schema.head()"
   ]
  },
  {
   "cell_type": "code",
   "execution_count": null,
   "id": "cfafbc01-27af-4e6e-a875-9faa97950da0",
   "metadata": {},
   "outputs": [],
   "source": [
    "Blob.from_string(\n",
    "        uri=f'gs://{BUCKET_NAME}/{PROJECT_PREFIX}/schema.csv',\n",
    "        client=storage_client,\n",
    "    ) \\\n",
    "    .upload_from_string(\n",
    "        data=schema.to_csv(index=False, header=False),\n",
    "        content_type='text/csv',\n",
    "    )"
   ]
  },
  {
   "cell_type": "code",
   "execution_count": 72,
   "id": "5d033bbd-e547-4b80-a570-376256452d46",
   "metadata": {},
   "outputs": [],
   "source": [
    "# blob.download_as_string()"
   ]
  },
  {
   "cell_type": "code",
   "execution_count": 40,
   "id": "51a59c93-71e4-4f7f-9049-b50ee7f035a9",
   "metadata": {},
   "outputs": [
    {
     "data": {
      "text/plain": [
       "'{\"content\": \"gs://data-and-predictions-usc1/fish-species-classification/test/img_00005.jpg\", \"mimeType\": \"image/jpeg\"}\\n{\"content\": \"gs://data-and-predictions-usc1/fish-species-classification/test/img_00007.jpg\", \"mimeType\": \"image/jpeg\"}\\n{\"content\": \"gs://data-and-predictions-usc1/fish-species-classification/test/img_00009.jpg\", \"mimeType\": \"image/jpeg\"}\\n{\"content\": \"gs://data-and-predictions-usc1/fish-species-classification/test/img_00018.jpg\", \"mimeType\": \"image/jpeg\"}\\n{\"content\": \"gs://data-a'"
      ]
     },
     "execution_count": 40,
     "metadata": {},
     "output_type": "execute_result"
    }
   ],
   "source": [
    "# TEST schema\n",
    "# ###########\n",
    "\n",
    "BUCKET_NAME = 'data-and-predictions-usc1'  # Different bucket\n",
    "blobs = storage_client.list_blobs(\n",
    "    BUCKET_NAME,\n",
    "    prefix=f'{PROJECT_PREFIX}/test',\n",
    ")\n",
    "\n",
    "# For predictions, we need to use JSON-line format.\n",
    "schema = [\n",
    "    f'{{\"content\": \"gs://{BUCKET_NAME}/{blob.name}\", \"mimeType\": \"image/jpeg\"}}'\n",
    "    for blob in blobs\n",
    "]\n",
    "\n",
    "\n",
    "# \n",
    "schema_json_lines = '\\n'.join(schema)\n",
    "schema_json_lines[:500]"
   ]
  },
  {
   "cell_type": "code",
   "execution_count": 42,
   "id": "6488445a-c26e-4240-ad33-7c53b459cf5a",
   "metadata": {},
   "outputs": [],
   "source": [
    "Blob.from_string(\n",
    "        uri=f'gs://{BUCKET_NAME}/{PROJECT_PREFIX}/schema-test.jsonl',\n",
    "        client=storage_client,\n",
    "    ) \\\n",
    "    .upload_from_string(\n",
    "        data=schema_json_lines,\n",
    "        # content_type='text/json',\n",
    "    )"
   ]
  },
  {
   "cell_type": "code",
   "execution_count": null,
   "id": "5e2ac770-8ffc-4dd2-b805-5e6a0af7176b",
   "metadata": {},
   "outputs": [],
   "source": []
  }
 ],
 "metadata": {
  "environment": {
   "kernel": "python3",
   "name": "common-cpu.m97",
   "type": "gcloud",
   "uri": "gcr.io/deeplearning-platform-release/base-cpu:m97"
  },
  "kernelspec": {
   "display_name": "Python 3",
   "language": "python",
   "name": "python3"
  },
  "language_info": {
   "codemirror_mode": {
    "name": "ipython",
    "version": 3
   },
   "file_extension": ".py",
   "mimetype": "text/x-python",
   "name": "python",
   "nbconvert_exporter": "python",
   "pygments_lexer": "ipython3",
   "version": "3.7.12"
  }
 },
 "nbformat": 4,
 "nbformat_minor": 5
}
